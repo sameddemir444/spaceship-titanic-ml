{
 "cells": [
  {
   "cell_type": "markdown",
   "id": "5beb3f1c-70f3-491f-92db-389030ced0db",
   "metadata": {},
   "source": [
    "# Problem Definition (Business Understanding)\n",
    "Spaceship Titanic is a fictional competition on Kaggle.\n",
    "\n",
    "Objective: To predict whether new passengers will be teleported or not, based on the information that the passengers are \"Transported\" (the state of being teleported to another dimension).\n",
    "\n",
    "This is a binary classification problem.\n",
    "The model learns to predict the Transported value (True or False) of each passenger.\n",
    "\n",
    "\n",
    "# About Dataset (Dataset Overview)\n",
    "Data consists of two files, train.csv and test.csv:\n",
    "\n",
    "File Description\n",
    "train.csv Training data (Passenger information + Transported tag)\n",
    "test.csv Passenger information only, data to be predicted\n",
    "\n",
    "# Data Dictionary\n",
    "- PassengerId: (Passenger ID (example: '0001_01') )\n",
    "- HomePlanet: (The planet the passenger departed from (Earth, Europa, Mars))\n",
    "- CryoSleep: (Was the passenger in sleep mode (True/False))\n",
    "- Cabin: (Passenger's cabin (example: 'B/0/P'))\n",
    "- Destination: (Destination planet (TRAPPIST-1e, etc.))\n",
    "- Age: (Age)\n",
    "- VIP: (VIP customer? (True/False))\n",
    "- RoomService:(Room service spend (₡))\n",
    "- FoodCourt: (Food spend)\n",
    "- ShoppingMall: (Shopping spend)\n",
    "- Spa: (Spa spend)\n",
    "- VRDeck: (Virtual reality deck spend)\n",
    "- Name: (Passenger's full name)\n",
    "- Transported: (Destination (teleported?) → True/False (only in train.csv))\n",
    "\n",
    "# Target Variable\n",
    "Transported: Boolean\n",
    "\n",
    "Type: Binary Classification\n",
    "\n",
    "Target: True or False → This column will be predicted."
   ]
  },
  {
   "cell_type": "code",
   "execution_count": null,
   "id": "c12876cb-efe5-47f1-80c5-20fff4bf3337",
   "metadata": {},
   "outputs": [],
   "source": []
  }
 ],
 "metadata": {
  "kernelspec": {
   "display_name": "Python 3 (ipykernel)",
   "language": "python",
   "name": "python3"
  },
  "language_info": {
   "codemirror_mode": {
    "name": "ipython",
    "version": 3
   },
   "file_extension": ".py",
   "mimetype": "text/x-python",
   "name": "python",
   "nbconvert_exporter": "python",
   "pygments_lexer": "ipython3",
   "version": "3.12.2"
  }
 },
 "nbformat": 4,
 "nbformat_minor": 5
}
